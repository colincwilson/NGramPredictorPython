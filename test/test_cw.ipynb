{
 "cells": [
  {
   "cell_type": "code",
   "execution_count": 26,
   "id": "4a1aa524",
   "metadata": {},
   "outputs": [],
   "source": [
    "# conda activate braille\n",
    "import sys\n",
    "import kenlm\n",
    "import string\n",
    "from collections import defaultdict\n",
    "from pathlib import Path\n",
    "\n",
    "# N-gram predictor module.\n",
    "# (forked from https://github.com/kdv123/TextPredictorPython)\n",
    "textpredict_home = Path.home() / \\\n",
    "    'Library/Python/NGramPredictorPython'\n",
    "sys.path.append(str(textpredict_home))\n",
    "from predictor import WordPredictor"
   ]
  },
  {
   "cell_type": "code",
   "execution_count": 2,
   "id": "1b05aa1f",
   "metadata": {},
   "outputs": [],
   "source": [
    "# # # # # # # # # #\n",
    "# Pretrained kenlm n-gram models.\n",
    "lm2_filename = Path.home() / \\\n",
    "        f'Languages/00English/Wiki-Text-103/wiki_2gram.binary'\n",
    "model2 = kenlm.Model(str(lm2_filename))\n",
    "\n",
    "lm5_filename = Path.home() / \\\n",
    "        f'Languages/00English/Wiki-Text-103/wiki_5gram.binary'\n",
    "model5 = kenlm.Model(str(lm5_filename))"
   ]
  },
  {
   "cell_type": "code",
   "execution_count": null,
   "id": "0fa0e590",
   "metadata": {},
   "outputs": [],
   "source": [
    "# N-gram predictor.\n",
    "lm = 'wiki_5gram'\n",
    "lm_filename = Path.home() / \\\n",
    "    f'Languages/00English/Wiki-Text-103/{lm}.binary'\n",
    "vocab_filename = str(textpredict_home / 'resources/vocab_100k')\n",
    "punct_filename = str(textpredict_home / 'resources/tokens.txt')\n",
    "model = WordPredictor(\\\n",
    "    str(lm_filename), vocab_filename, punct_filename)\n",
    "model.verbose = False\n"
   ]
  },
  {
   "cell_type": "code",
   "execution_count": 28,
   "id": "5336e71e",
   "metadata": {},
   "outputs": [
    {
     "name": "stdout",
     "output_type": "stream",
     "text": [
      "Most probable word: the\n",
      "Top k predictions with context:\n",
      "[('a', -1.0025863647460938), ('an', -1.6318469047546387), ('and', -1.6486469507217407), ('another', -1.9600895643234253), ('any', -2.1826364994049072), ('anything', -2.5020837783813477), ('all', -2.7174196243286133), ('at', -2.8211469650268555), ('anyone', -2.995255947113037), ('alternative', -3.046401023864746)]\n",
      "[('both', -2.9547853469848633), ('better', -3.044631242752075), ('buyers', -3.2280492782592773), ('by', -3.2633252143859863), ('because', -3.4056501388549805), ('buried', -3.45285964012146), ('but', -3.532406806945801), ('books', -3.569768190383911), ('before', -3.64652943611145), ('backing', -3.7173545360565186)]\n",
      "[('common', -2.8010525703430176), ('clues', -2.980637788772583), ('cover', -3.3648669719696045), ('contradictions', -3.375551223754883), ('compromises', -3.4569363594055176), ('creative', -3.6469461917877197), ('correlations', -3.725670099258423), ('can', -3.9614036083221436), ('certain', -4.018563270568848), ('clear', -4.033477783203125)]\n",
      "[('during', -3.2538702487945557), ('different', -3.483628034591675), ('drugs', -3.7301502227783203), ('dates', -3.869030714035034), ('direct', -3.8793554306030273), ('due', -3.9499778747558594), ('differences', -4.03623104095459), ('difficulties', -4.040075302124023), ('diversity', -4.047219753265381), ('de', -4.050790309906006)]\n",
      "[('employment', -2.3096721172332764), ('evidence', -2.4364871978759766), ('enough', -2.6742160320281982), ('each', -2.9363622665405273), ('even', -3.3443682193756104), ('either', -3.5538737773895264), ('everyone', -3.644265651702881), ('eleven', -3.716201066970825), ('excuses', -3.7251880168914795), ('elements', -3.8421196937561035)]\n",
      "[('food', -2.2092881202697754), ('for', -2.875007390975952), ('financing', -3.097015857696533), ('financial', -3.112393379211426), ('funding', -3.1137073040008545), ('further', -3.2068212032318115), ('from', -3.2295010089874268), ('fault', -3.310952663421631), ('first', -3.3654534816741943), ('five', -3.47337007522583)]\n",
      "[('gold', -3.195995330810547), ('greater', -3.1969826221466064), ('government', -3.435795307159424), ('good', -3.486823320388794), ('general', -3.567094087600708), ('great', -4.014824390411377), ('grounds', -4.0381293296813965), ('gaps', -4.050714015960693), ('groups', -4.155018329620361), ('gas', -4.222080707550049)]\n",
      "[('her', -1.5948591232299805), ('his', -1.6381378173828125), ('him', -1.746722936630249), ('himself', -2.1642887592315674), ('help', -2.742424249649048), ('hidden', -2.7623140811920166), ('herself', -2.7692134380340576), ('he', -2.9291696548461914), ('housing', -3.0744919776916504), ('how', -3.219336986541748)]\n",
      "[('it', -1.6834441423416138), ('in', -2.207227945327759), ('its', -2.2324695587158203), ('information', -2.7331066131591797), ('itself', -2.8667242527008057), ('items', -2.954927444458008), ('is', -3.1052582263946533), ('inspiration', -3.1624643802642822), ('investors', -3.2529988288879395), ('interesting', -3.4250478744506836)]\n",
      "[('jobs', -2.7768020629882812), ('justice', -4.0438337326049805), ('just', -4.053902626037598), ('junior', -4.24629020690918), ('jumping', -4.255801677703857), ('jewelry', -4.26439094543457), ('joined', -4.521493434906006), ('journal', -4.71388578414917), ('jars', -4.773166656494141), ('job', -5.20706844329834)]\n",
      "[('keys', -3.6496920585632324), ('key', -3.7131712436676025), ('known', -4.515980243682861), ('kind', -4.670483112335205), ('knows', -4.708843231201172), ('kernel', -4.772736072540283), ('killed', -4.828510761260986), ('kept', -4.835910797119141), ('knew', -5.06728458404541), ('king', -5.146576404571533)]\n",
      "[('love', -2.6453325748443604), ('locations', -3.073394536972046), ('life', -3.400095224380493), ('lodgings', -3.4569051265716553), ('land', -3.625828504562378), ('lost', -3.6656813621520996), ('large', -3.6935369968414307), ('lies', -3.701204299926758), ('likely', -3.7130961418151855), ('little', -3.716747522354126)]\n",
      "[('more', -2.2013258934020996), ('meaning', -2.845323324203491), ('me', -2.8664605617523193), ('myself', -2.8695435523986816), ('my', -2.9455058574676514), ('much', -3.1397619247436523), ('material', -3.1903939247131348), ('many', -3.210158586502075), ('money', -3.408233165740967), ('mention', -3.5825917720794678)]\n",
      "[('new', -1.917297124862671), ('no', -2.687836170196533), ('nothing', -3.156717538833618), ('none', -3.6169400215148926), ('networks', -3.7183022499084473), ('numerous', -3.71858549118042), ('not', -3.8795669078826904), ('non', -4.174864768981934), ('next', -4.176769256591797), ('novel', -4.210906028747559)]\n",
      "[('out', -1.2849724292755127), ('other', -2.2619130611419678), ('one', -2.400899648666382), ('on', -2.772651195526123), ('of', -2.8121492862701416), ('only', -3.01285982131958), ('opportunities', -3.2513315677642822), ('or', -3.273876190185547), ('our', -3.3106017112731934), ('objects', -3.4083633422851562)]\n",
      "[('people', -2.794076442718506), ('peace', -2.828629493713379), ('prey', -2.8631534576416016), ('proof', -2.9800655841827393), ('potential', -3.112487316131592), ('players', -3.240758180618286), ('plenty', -3.3651299476623535), ('partners', -3.4537668228149414), ('playing', -3.6223304271698), ('places', -3.636463165283203)]\n",
      "[('qualified', -4.2289137840271), ('quite', -4.249677658081055), ('quality', -4.600753307342529), ('quickly', -4.618533134460449), ('quaint', -4.779892921447754), ('questions', -5.150665283203125), ('question', -5.340133190155029), ('questioned', -5.341724872589111), ('qualities', -5.417302131652832), ('quarterback', -5.501887798309326)]\n",
      "[('refuge', -2.9086661338806152), ('roles', -3.1129863262176514), ('real', -3.639633893966675), ('references', -3.6425726413726807), ('replacements', -3.6513640880584717), ('regular', -3.7086007595062256), ('resources', -3.7140347957611084), ('reasons', -3.716862440109253), ('rare', -3.7196707725524902), ('recruits', -3.7211008071899414)]\n",
      "[('something', -2.1913609504699707), ('someone', -2.2386488914489746), ('some', -2.2391953468322754), ('success', -2.627890110015869), ('such', -2.6397252082824707), ('shelter', -2.654115915298462), ('suitable', -2.6964545249938965), ('solutions', -2.7770302295684814), ('somewhere', -2.927069664001465), ('solace', -2.9364137649536133)]\n",
      "[('the', -0.7103900909423828), ('that', -1.4824001789093018), ('their', -1.7834678888320923), ('them', -1.98526132106781), ('themselves', -2.088749408721924), ('this', -2.4232404232025146), ('two', -2.7001664638519287), ('those', -2.7319815158843994), ('time', -2.8353962898254395), ('these', -2.9704644680023193)]\n",
      "[('usable', -3.416374921798706), ('use', -3.946242094039917), ('useful', -4.041266918182373), ('upon', -4.077418804168701), ('until', -4.087909698486328), ('under', -4.099850177764893), ('used', -4.206791877746582), ('urban', -4.2254228591918945), ('uranium', -4.25234842300415), ('united', -4.253518104553223)]\n",
      "[('victims', -3.4522628784179688), ('viewers', -3.715088129043579), ('voices', -3.715710163116455), ('various', -3.8628194332122803), ('via', -3.9310548305511475), ('valuable', -4.048232555389404), ('value', -4.217924118041992), ('variation', -4.244820594787598), ('vulnerable', -4.254169464111328), ('valid', -4.261729717254639)]\n",
      "[('work', -1.9922257661819458), ('ways', -2.231609582901001), ('what', -2.601407527923584), ('was', -2.8649463653564453), ('who', -2.8801324367523193), ('where', -2.9355690479278564), ('water', -2.9511969089508057), ('words', -3.223616600036621), ('when', -3.299175500869751), ('which', -3.3323943614959717)]\n",
      "[('x', -5.530478477478027), ('xenon', -6.125102996826172), ('xenophobia', -6.605169773101807), ('xenophobic', -6.685238838195801), ('xylophone', -6.855246067047119), ('xylem', -6.882068157196045), ('xi', -6.941259860992432), ('xylophones', -7.191567897796631), ('xian', -7.252010822296143), ('xing', -7.4060750007629395)]\n",
      "[('your', -2.9123432636260986), ('yourself', -2.9356181621551514), ('you', -3.406405448913574), ('young', -3.633455991744995), ('yet', -4.177587985992432), ('years', -4.893274307250977), ('year', -5.041371822357178), ('yards', -5.0715436935424805), ('youth', -5.267179012298584), ('yellow', -5.313183307647705)]\n",
      "[('z', -4.267403602600098), ('zero', -4.736240863800049), ('zone', -5.26785135269165), ('zones', -5.487153053283691), ('zinc', -5.748081684112549), ('zoo', -6.007115364074707), ('zombies', -6.0538177490234375), ('zombie', -6.115525722503662), ('zu', -6.129971981048584), ('zeal', -6.187476634979248)]\n"
     ]
    }
   ],
   "source": [
    "context = 'if you happened to find'\n",
    "prefix = ''\n",
    "k = 10\n",
    "\n",
    "most_prob_word, log_prob = model.get_most_probable_word(\n",
    "    prefix, context, vocab_id='', min_log_prob=-float('inf'))\n",
    "print('Most probable word:', most_prob_word)\n",
    "\n",
    "print('Top k predictions with context:')\n",
    "most_prob_words = model.get_words_with_context(prefix='',\n",
    "                                context=context,\n",
    "                                num_predictions=k)\n",
    "\n",
    "# Organize by initial letter.\n",
    "most_prob_words_ = defaultdict(list)\n",
    "for words in most_prob_words:\n",
    "    if len(words) == 0:\n",
    "        continue\n",
    "    x = words[0][0][0]\n",
    "    most_prob_words_[x] = words\n",
    "\n",
    "for x in string.ascii_lowercase:\n",
    "    print(most_prob_words_.get(x, []))"
   ]
  }
 ],
 "metadata": {
  "kernelspec": {
   "display_name": "braille",
   "language": "python",
   "name": "python3"
  },
  "language_info": {
   "codemirror_mode": {
    "name": "ipython",
    "version": 3
   },
   "file_extension": ".py",
   "mimetype": "text/x-python",
   "name": "python",
   "nbconvert_exporter": "python",
   "pygments_lexer": "ipython3",
   "version": "3.11.11"
  }
 },
 "nbformat": 4,
 "nbformat_minor": 5
}
